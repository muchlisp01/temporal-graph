{
  "nbformat": 4,
  "nbformat_minor": 0,
  "metadata": {
    "colab": {
      "provenance": []
    },
    "kernelspec": {
      "name": "python3",
      "display_name": "Python 3"
    },
    "language_info": {
      "name": "python"
    }
  },
  "cells": [
    {
      "cell_type": "code",
      "source": [
        "pip install node2vec"
      ],
      "metadata": {
        "colab": {
          "base_uri": "https://localhost:8080/"
        },
        "id": "9s0oR72tTRGZ",
        "outputId": "7347dd95-50d5-4b5a-a99f-930ec967e5fd"
      },
      "execution_count": 1,
      "outputs": [
        {
          "output_type": "stream",
          "name": "stdout",
          "text": [
            "Collecting node2vec\n",
            "  Downloading node2vec-0.4.6-py3-none-any.whl (7.0 kB)\n",
            "Requirement already satisfied: gensim<5.0.0,>=4.1.2 in /usr/local/lib/python3.10/dist-packages (from node2vec) (4.3.1)\n",
            "Requirement already satisfied: joblib<2.0.0,>=1.1.0 in /usr/local/lib/python3.10/dist-packages (from node2vec) (1.3.2)\n",
            "Collecting networkx<3.0,>=2.5 (from node2vec)\n",
            "  Downloading networkx-2.8.8-py3-none-any.whl (2.0 MB)\n",
            "\u001b[2K     \u001b[90m━━━━━━━━━━━━━━━━━━━━━━━━━━━━━━━━━━━━━━━━\u001b[0m \u001b[32m2.0/2.0 MB\u001b[0m \u001b[31m13.4 MB/s\u001b[0m eta \u001b[36m0:00:00\u001b[0m\n",
            "\u001b[?25hRequirement already satisfied: numpy<2.0.0,>=1.19.5 in /usr/local/lib/python3.10/dist-packages (from node2vec) (1.23.5)\n",
            "Requirement already satisfied: tqdm<5.0.0,>=4.55.1 in /usr/local/lib/python3.10/dist-packages (from node2vec) (4.66.1)\n",
            "Requirement already satisfied: scipy>=1.7.0 in /usr/local/lib/python3.10/dist-packages (from gensim<5.0.0,>=4.1.2->node2vec) (1.10.1)\n",
            "Requirement already satisfied: smart-open>=1.8.1 in /usr/local/lib/python3.10/dist-packages (from gensim<5.0.0,>=4.1.2->node2vec) (6.3.0)\n",
            "Installing collected packages: networkx, node2vec\n",
            "  Attempting uninstall: networkx\n",
            "    Found existing installation: networkx 3.1\n",
            "    Uninstalling networkx-3.1:\n",
            "      Successfully uninstalled networkx-3.1\n",
            "Successfully installed networkx-2.8.8 node2vec-0.4.6\n"
          ]
        }
      ]
    },
    {
      "cell_type": "code",
      "execution_count": null,
      "metadata": {
        "id": "NKueaH84TAfu"
      },
      "outputs": [],
      "source": [
        "import networkx as nx\n",
        "import json\n",
        "import pandas as pd\n",
        "import numpy as np\n",
        "from sklearn.cluster import KMeans\n",
        "import numpy as np\n",
        "from networkx.readwrite import json_graph\n",
        "import json\n",
        "from sklearn.manifold import TSNE\n",
        "import plotly.express as px\n",
        "\n",
        "\n",
        "from node2vec import Node2Vec"
      ]
    },
    {
      "cell_type": "code",
      "source": [
        "import networkx as nx\n",
        "import pandas as pd\n",
        "\n",
        "# Load CSV data into a Pandas DataFrame\n",
        "csv_file = '/content/drive/MyDrive/temporal graph/Data_Agama.csv'  # Replace with your actual CSV file path\n",
        "df = pd.read_csv(csv_file)"
      ],
      "metadata": {
        "id": "yyEN-yhhqQT7"
      },
      "execution_count": null,
      "outputs": []
    },
    {
      "cell_type": "code",
      "source": [
        "def get_similarity(graph,model,topic,topics):\n",
        "\n",
        "    conn=[]\n",
        "\n",
        "    for node in graph.nodes :\n",
        "        if node in topics:\n",
        "            pass\n",
        "\n",
        "        else :\n",
        "\n",
        "            try :\n",
        "                w =  model.wv.distance(topic,node)\n",
        "                conn.append(w)\n",
        "                ##conn_index.append(node)\n",
        "            except :\n",
        "                conn.append(1000)\n",
        "    return conn\n",
        "\n",
        "def get_df(graph,model,topics):\n",
        "    dict_values={}\n",
        "   # topics = ['plant','waste','battery','soil']\n",
        "    for topic in topics :\n",
        "        print('-------------')\n",
        "        print(topic)\n",
        "        value_list = get_similarity(graph,model,topic,topics)\n",
        "        ##normed = (np.array(value_list) - min(value_list))/(max(value_list)-min(value_list))\n",
        "        dict_values[topic] = value_list\n",
        "    filtred = [node for node in graph.nodes if node not in topics]\n",
        "    df = pd.DataFrame(data=dict_values).set_index([pd.Index(filtred)])\n",
        "    return df\n",
        "\n",
        "\n",
        "\n",
        "\n",
        "\n",
        "def add_communities(graph,df,topics):\n",
        "    dict_ = {}\n",
        "    for topic in topics :\n",
        "        dict_[topic] =[]\n",
        "\n",
        "\n",
        "    for node in graph.nodes:\n",
        "        if node in topics:\n",
        "            group = -1\n",
        "        else :\n",
        "            row = df.loc[ node , : ]\n",
        "            values = list(row)\n",
        "            min_index = values.index(min(values))\n",
        "            dict_[topics[min_index]].append(node)\n",
        "            group = min_index\n",
        "        graph.nodes[node]['group']=group\n",
        "    return dict_"
      ],
      "metadata": {
        "id": "d4bV-L8FUMV5"
      },
      "execution_count": null,
      "outputs": []
    },
    {
      "cell_type": "code",
      "source": [],
      "metadata": {
        "id": "prb19vIqWAsI"
      },
      "execution_count": null,
      "outputs": []
    }
  ]
}