{
  "nbformat": 4,
  "nbformat_minor": 0,
  "metadata": {
    "colab": {
      "provenance": []
    },
    "kernelspec": {
      "name": "python3",
      "display_name": "Python 3"
    },
    "language_info": {
      "name": "python"
    },
    "widgets": {
      "application/vnd.jupyter.widget-state+json": {
        "35a24540943248498fc7db93d38d5d68": {
          "model_module": "@jupyter-widgets/controls",
          "model_name": "HBoxModel",
          "model_module_version": "1.5.0",
          "state": {
            "_dom_classes": [],
            "_model_module": "@jupyter-widgets/controls",
            "_model_module_version": "1.5.0",
            "_model_name": "HBoxModel",
            "_view_count": null,
            "_view_module": "@jupyter-widgets/controls",
            "_view_module_version": "1.5.0",
            "_view_name": "HBoxView",
            "box_style": "",
            "children": [
              "IPY_MODEL_1c2c7c9151a0409e8efe29412ca26f2f",
              "IPY_MODEL_9e0b9544ab4145e28bed0490186cbd9d",
              "IPY_MODEL_137ca3e33c284cb7826846a9b7b7b860"
            ],
            "layout": "IPY_MODEL_cf82051a9ad046b894113dc589d5be75"
          }
        },
        "1c2c7c9151a0409e8efe29412ca26f2f": {
          "model_module": "@jupyter-widgets/controls",
          "model_name": "HTMLModel",
          "model_module_version": "1.5.0",
          "state": {
            "_dom_classes": [],
            "_model_module": "@jupyter-widgets/controls",
            "_model_module_version": "1.5.0",
            "_model_name": "HTMLModel",
            "_view_count": null,
            "_view_module": "@jupyter-widgets/controls",
            "_view_module_version": "1.5.0",
            "_view_name": "HTMLView",
            "description": "",
            "description_tooltip": null,
            "layout": "IPY_MODEL_a118eb778ec24c34a309f687809a9d0c",
            "placeholder": "​",
            "style": "IPY_MODEL_d2c3ddc7531f4bfa8af89833782c6c58",
            "value": "Computing transition probabilities: 100%"
          }
        },
        "9e0b9544ab4145e28bed0490186cbd9d": {
          "model_module": "@jupyter-widgets/controls",
          "model_name": "FloatProgressModel",
          "model_module_version": "1.5.0",
          "state": {
            "_dom_classes": [],
            "_model_module": "@jupyter-widgets/controls",
            "_model_module_version": "1.5.0",
            "_model_name": "FloatProgressModel",
            "_view_count": null,
            "_view_module": "@jupyter-widgets/controls",
            "_view_module_version": "1.5.0",
            "_view_name": "ProgressView",
            "bar_style": "success",
            "description": "",
            "description_tooltip": null,
            "layout": "IPY_MODEL_544cb0434dd14782ae0e5400156ede62",
            "max": 1145,
            "min": 0,
            "orientation": "horizontal",
            "style": "IPY_MODEL_43f1fd36c95c4d4cb5e04cd8d0dbf1af",
            "value": 1145
          }
        },
        "137ca3e33c284cb7826846a9b7b7b860": {
          "model_module": "@jupyter-widgets/controls",
          "model_name": "HTMLModel",
          "model_module_version": "1.5.0",
          "state": {
            "_dom_classes": [],
            "_model_module": "@jupyter-widgets/controls",
            "_model_module_version": "1.5.0",
            "_model_name": "HTMLModel",
            "_view_count": null,
            "_view_module": "@jupyter-widgets/controls",
            "_view_module_version": "1.5.0",
            "_view_name": "HTMLView",
            "description": "",
            "description_tooltip": null,
            "layout": "IPY_MODEL_bdbb930f3d7e4710881108cac634fbcb",
            "placeholder": "​",
            "style": "IPY_MODEL_ba8a2ad7e69047f780ae26d94629d198",
            "value": " 1145/1145 [00:01&lt;00:00, 1182.60it/s]"
          }
        },
        "cf82051a9ad046b894113dc589d5be75": {
          "model_module": "@jupyter-widgets/base",
          "model_name": "LayoutModel",
          "model_module_version": "1.2.0",
          "state": {
            "_model_module": "@jupyter-widgets/base",
            "_model_module_version": "1.2.0",
            "_model_name": "LayoutModel",
            "_view_count": null,
            "_view_module": "@jupyter-widgets/base",
            "_view_module_version": "1.2.0",
            "_view_name": "LayoutView",
            "align_content": null,
            "align_items": null,
            "align_self": null,
            "border": null,
            "bottom": null,
            "display": null,
            "flex": null,
            "flex_flow": null,
            "grid_area": null,
            "grid_auto_columns": null,
            "grid_auto_flow": null,
            "grid_auto_rows": null,
            "grid_column": null,
            "grid_gap": null,
            "grid_row": null,
            "grid_template_areas": null,
            "grid_template_columns": null,
            "grid_template_rows": null,
            "height": null,
            "justify_content": null,
            "justify_items": null,
            "left": null,
            "margin": null,
            "max_height": null,
            "max_width": null,
            "min_height": null,
            "min_width": null,
            "object_fit": null,
            "object_position": null,
            "order": null,
            "overflow": null,
            "overflow_x": null,
            "overflow_y": null,
            "padding": null,
            "right": null,
            "top": null,
            "visibility": null,
            "width": null
          }
        },
        "a118eb778ec24c34a309f687809a9d0c": {
          "model_module": "@jupyter-widgets/base",
          "model_name": "LayoutModel",
          "model_module_version": "1.2.0",
          "state": {
            "_model_module": "@jupyter-widgets/base",
            "_model_module_version": "1.2.0",
            "_model_name": "LayoutModel",
            "_view_count": null,
            "_view_module": "@jupyter-widgets/base",
            "_view_module_version": "1.2.0",
            "_view_name": "LayoutView",
            "align_content": null,
            "align_items": null,
            "align_self": null,
            "border": null,
            "bottom": null,
            "display": null,
            "flex": null,
            "flex_flow": null,
            "grid_area": null,
            "grid_auto_columns": null,
            "grid_auto_flow": null,
            "grid_auto_rows": null,
            "grid_column": null,
            "grid_gap": null,
            "grid_row": null,
            "grid_template_areas": null,
            "grid_template_columns": null,
            "grid_template_rows": null,
            "height": null,
            "justify_content": null,
            "justify_items": null,
            "left": null,
            "margin": null,
            "max_height": null,
            "max_width": null,
            "min_height": null,
            "min_width": null,
            "object_fit": null,
            "object_position": null,
            "order": null,
            "overflow": null,
            "overflow_x": null,
            "overflow_y": null,
            "padding": null,
            "right": null,
            "top": null,
            "visibility": null,
            "width": null
          }
        },
        "d2c3ddc7531f4bfa8af89833782c6c58": {
          "model_module": "@jupyter-widgets/controls",
          "model_name": "DescriptionStyleModel",
          "model_module_version": "1.5.0",
          "state": {
            "_model_module": "@jupyter-widgets/controls",
            "_model_module_version": "1.5.0",
            "_model_name": "DescriptionStyleModel",
            "_view_count": null,
            "_view_module": "@jupyter-widgets/base",
            "_view_module_version": "1.2.0",
            "_view_name": "StyleView",
            "description_width": ""
          }
        },
        "544cb0434dd14782ae0e5400156ede62": {
          "model_module": "@jupyter-widgets/base",
          "model_name": "LayoutModel",
          "model_module_version": "1.2.0",
          "state": {
            "_model_module": "@jupyter-widgets/base",
            "_model_module_version": "1.2.0",
            "_model_name": "LayoutModel",
            "_view_count": null,
            "_view_module": "@jupyter-widgets/base",
            "_view_module_version": "1.2.0",
            "_view_name": "LayoutView",
            "align_content": null,
            "align_items": null,
            "align_self": null,
            "border": null,
            "bottom": null,
            "display": null,
            "flex": null,
            "flex_flow": null,
            "grid_area": null,
            "grid_auto_columns": null,
            "grid_auto_flow": null,
            "grid_auto_rows": null,
            "grid_column": null,
            "grid_gap": null,
            "grid_row": null,
            "grid_template_areas": null,
            "grid_template_columns": null,
            "grid_template_rows": null,
            "height": null,
            "justify_content": null,
            "justify_items": null,
            "left": null,
            "margin": null,
            "max_height": null,
            "max_width": null,
            "min_height": null,
            "min_width": null,
            "object_fit": null,
            "object_position": null,
            "order": null,
            "overflow": null,
            "overflow_x": null,
            "overflow_y": null,
            "padding": null,
            "right": null,
            "top": null,
            "visibility": null,
            "width": null
          }
        },
        "43f1fd36c95c4d4cb5e04cd8d0dbf1af": {
          "model_module": "@jupyter-widgets/controls",
          "model_name": "ProgressStyleModel",
          "model_module_version": "1.5.0",
          "state": {
            "_model_module": "@jupyter-widgets/controls",
            "_model_module_version": "1.5.0",
            "_model_name": "ProgressStyleModel",
            "_view_count": null,
            "_view_module": "@jupyter-widgets/base",
            "_view_module_version": "1.2.0",
            "_view_name": "StyleView",
            "bar_color": null,
            "description_width": ""
          }
        },
        "bdbb930f3d7e4710881108cac634fbcb": {
          "model_module": "@jupyter-widgets/base",
          "model_name": "LayoutModel",
          "model_module_version": "1.2.0",
          "state": {
            "_model_module": "@jupyter-widgets/base",
            "_model_module_version": "1.2.0",
            "_model_name": "LayoutModel",
            "_view_count": null,
            "_view_module": "@jupyter-widgets/base",
            "_view_module_version": "1.2.0",
            "_view_name": "LayoutView",
            "align_content": null,
            "align_items": null,
            "align_self": null,
            "border": null,
            "bottom": null,
            "display": null,
            "flex": null,
            "flex_flow": null,
            "grid_area": null,
            "grid_auto_columns": null,
            "grid_auto_flow": null,
            "grid_auto_rows": null,
            "grid_column": null,
            "grid_gap": null,
            "grid_row": null,
            "grid_template_areas": null,
            "grid_template_columns": null,
            "grid_template_rows": null,
            "height": null,
            "justify_content": null,
            "justify_items": null,
            "left": null,
            "margin": null,
            "max_height": null,
            "max_width": null,
            "min_height": null,
            "min_width": null,
            "object_fit": null,
            "object_position": null,
            "order": null,
            "overflow": null,
            "overflow_x": null,
            "overflow_y": null,
            "padding": null,
            "right": null,
            "top": null,
            "visibility": null,
            "width": null
          }
        },
        "ba8a2ad7e69047f780ae26d94629d198": {
          "model_module": "@jupyter-widgets/controls",
          "model_name": "DescriptionStyleModel",
          "model_module_version": "1.5.0",
          "state": {
            "_model_module": "@jupyter-widgets/controls",
            "_model_module_version": "1.5.0",
            "_model_name": "DescriptionStyleModel",
            "_view_count": null,
            "_view_module": "@jupyter-widgets/base",
            "_view_module_version": "1.2.0",
            "_view_name": "StyleView",
            "description_width": ""
          }
        }
      }
    }
  },
  "cells": [
    {
      "cell_type": "code",
      "source": [
        "pip install node2vec"
      ],
      "metadata": {
        "colab": {
          "base_uri": "https://localhost:8080/",
          "height": 428
        },
        "id": "9s0oR72tTRGZ",
        "outputId": "54d6cf56-45fb-4d06-f667-1c7f280e49fa"
      },
      "execution_count": 2,
      "outputs": [
        {
          "output_type": "stream",
          "name": "stdout",
          "text": [
            "Collecting node2vec\n",
            "  Downloading node2vec-0.4.6-py3-none-any.whl (7.0 kB)\n",
            "Requirement already satisfied: gensim<5.0.0,>=4.1.2 in /usr/local/lib/python3.10/dist-packages (from node2vec) (4.3.1)\n",
            "Requirement already satisfied: joblib<2.0.0,>=1.1.0 in /usr/local/lib/python3.10/dist-packages (from node2vec) (1.3.2)\n",
            "Collecting networkx<3.0,>=2.5 (from node2vec)\n",
            "  Downloading networkx-2.8.8-py3-none-any.whl (2.0 MB)\n",
            "\u001b[2K     \u001b[90m━━━━━━━━━━━━━━━━━━━━━━━━━━━━━━━━━━━━━━━━\u001b[0m \u001b[32m2.0/2.0 MB\u001b[0m \u001b[31m20.3 MB/s\u001b[0m eta \u001b[36m0:00:00\u001b[0m\n",
            "\u001b[?25hRequirement already satisfied: numpy<2.0.0,>=1.19.5 in /usr/local/lib/python3.10/dist-packages (from node2vec) (1.23.5)\n",
            "Requirement already satisfied: tqdm<5.0.0,>=4.55.1 in /usr/local/lib/python3.10/dist-packages (from node2vec) (4.66.1)\n",
            "Requirement already satisfied: scipy>=1.7.0 in /usr/local/lib/python3.10/dist-packages (from gensim<5.0.0,>=4.1.2->node2vec) (1.10.1)\n",
            "Requirement already satisfied: smart-open>=1.8.1 in /usr/local/lib/python3.10/dist-packages (from gensim<5.0.0,>=4.1.2->node2vec) (6.3.0)\n",
            "Installing collected packages: networkx, node2vec\n",
            "  Attempting uninstall: networkx\n",
            "    Found existing installation: networkx 3.1\n",
            "    Uninstalling networkx-3.1:\n",
            "      Successfully uninstalled networkx-3.1\n",
            "Successfully installed networkx-2.8.8 node2vec-0.4.6\n"
          ]
        },
        {
          "output_type": "display_data",
          "data": {
            "application/vnd.colab-display-data+json": {
              "pip_warning": {
                "packages": [
                  "networkx"
                ]
              }
            }
          },
          "metadata": {}
        }
      ]
    },
    {
      "cell_type": "code",
      "execution_count": 2,
      "metadata": {
        "id": "NKueaH84TAfu"
      },
      "outputs": [],
      "source": [
        "import networkx as nx\n",
        "import json\n",
        "import pandas as pd\n",
        "import numpy as np\n",
        "from sklearn.cluster import KMeans\n",
        "import numpy as np\n",
        "from networkx.readwrite import json_graph\n",
        "import json\n",
        "from sklearn.manifold import TSNE\n",
        "import plotly.express as px\n",
        "\n",
        "\n",
        "from node2vec import Node2Vec"
      ]
    },
    {
      "cell_type": "code",
      "source": [
        "!mkdir data\n",
        "!wget -P data/ https://raw.githubusercontent.com/AnasAito/Semantic-parser/main/topicgraph/UM6P%20final%20graph.json"
      ],
      "metadata": {
        "colab": {
          "base_uri": "https://localhost:8080/"
        },
        "id": "wlJQzw1hTHZT",
        "outputId": "5a189476-99ac-417a-c4f8-ef528dbb79a6"
      },
      "execution_count": 3,
      "outputs": [
        {
          "output_type": "stream",
          "name": "stdout",
          "text": [
            "--2023-08-20 04:58:10--  https://raw.githubusercontent.com/AnasAito/Semantic-parser/main/topicgraph/UM6P%20final%20graph.json\n",
            "Resolving raw.githubusercontent.com (raw.githubusercontent.com)... 185.199.108.133, 185.199.111.133, 185.199.110.133, ...\n",
            "Connecting to raw.githubusercontent.com (raw.githubusercontent.com)|185.199.108.133|:443... connected.\n",
            "HTTP request sent, awaiting response... 200 OK\n",
            "Length: 375813 (367K) [text/plain]\n",
            "Saving to: ‘data/UM6P final graph.json’\n",
            "\n",
            "UM6P final graph.js 100%[===================>] 367.00K  --.-KB/s    in 0.04s   \n",
            "\n",
            "2023-08-20 04:58:11 (8.55 MB/s) - ‘data/UM6P final graph.json’ saved [375813/375813]\n",
            "\n"
          ]
        }
      ]
    },
    {
      "cell_type": "code",
      "source": [
        "with open('data/UM6P final graph.json') as json_file:\n",
        "    data = json.load(json_file)\n",
        "    graph = nx.node_link_graph(data)"
      ],
      "metadata": {
        "id": "5JfrGTUETsho"
      },
      "execution_count": 8,
      "outputs": []
    },
    {
      "cell_type": "code",
      "source": [
        "def get_similarity(graph,model,topic,topics):\n",
        "\n",
        "    conn=[]\n",
        "\n",
        "    for node in graph.nodes :\n",
        "        if node in topics:\n",
        "            pass\n",
        "\n",
        "        else :\n",
        "\n",
        "            try :\n",
        "                w =  model.wv.distance(topic,node)\n",
        "                conn.append(w)\n",
        "                ##conn_index.append(node)\n",
        "            except :\n",
        "                conn.append(1000)\n",
        "    return conn\n",
        "\n",
        "def get_df(graph,model,topics):\n",
        "    dict_values={}\n",
        "   # topics = ['plant','waste','battery','soil']\n",
        "    for topic in topics :\n",
        "        print('-------------')\n",
        "        print(topic)\n",
        "        value_list = get_similarity(graph,model,topic,topics)\n",
        "        ##normed = (np.array(value_list) - min(value_list))/(max(value_list)-min(value_list))\n",
        "        dict_values[topic] = value_list\n",
        "    filtred = [node for node in graph.nodes if node not in topics]\n",
        "    df = pd.DataFrame(data=dict_values).set_index([pd.Index(filtred)])\n",
        "    return df\n",
        "\n",
        "\n",
        "\n",
        "\n",
        "\n",
        "def add_communities(graph,df,topics):\n",
        "    dict_ = {}\n",
        "    for topic in topics :\n",
        "        dict_[topic] =[]\n",
        "\n",
        "\n",
        "    for node in graph.nodes:\n",
        "        if node in topics:\n",
        "            group = -1\n",
        "        else :\n",
        "            row = df.loc[ node , : ]\n",
        "            values = list(row)\n",
        "            min_index = values.index(min(values))\n",
        "            dict_[topics[min_index]].append(node)\n",
        "            group = min_index\n",
        "        graph.nodes[node]['group']=group\n",
        "    return dict_"
      ],
      "metadata": {
        "id": "d4bV-L8FUMV5"
      },
      "execution_count": 9,
      "outputs": []
    },
    {
      "cell_type": "code",
      "source": [
        "topics = [\n",
        " 'cellulose',\n",
        " 'sludge',\n",
        " 'plant',\n",
        " 'waste',\n",
        " 'phosphate',\n",
        " 'material',\n",
        " 'soil']\n",
        "\n",
        "\n",
        "## model for distace computation\n",
        "node2vec = Node2Vec(graph,q=0.25, dimensions=20, walk_length=16, num_walks=100, workers=4)  # Use temp_folder for big graphs\n",
        "model = node2vec.fit(window=10, min_count=1, batch_words=4)\n",
        "\n",
        "\n",
        "df = get_df(graph,model,topics)\n",
        "clusters = add_communities(graph,df,topics)\n",
        "#data = json_graph.node_link_data(graph)\n",
        "\n",
        "\n",
        "\n",
        "\n",
        "# Writing a JSON file\n",
        "#with open('./data.json', 'w') as f:\n",
        " #   json.dump(data, f)"
      ],
      "metadata": {
        "colab": {
          "base_uri": "https://localhost:8080/",
          "height": 292,
          "referenced_widgets": [
            "35a24540943248498fc7db93d38d5d68",
            "1c2c7c9151a0409e8efe29412ca26f2f",
            "9e0b9544ab4145e28bed0490186cbd9d",
            "137ca3e33c284cb7826846a9b7b7b860",
            "cf82051a9ad046b894113dc589d5be75",
            "a118eb778ec24c34a309f687809a9d0c",
            "d2c3ddc7531f4bfa8af89833782c6c58",
            "544cb0434dd14782ae0e5400156ede62",
            "43f1fd36c95c4d4cb5e04cd8d0dbf1af",
            "bdbb930f3d7e4710881108cac634fbcb",
            "ba8a2ad7e69047f780ae26d94629d198"
          ]
        },
        "id": "pZeKrJ4dU4UQ",
        "outputId": "ae8dbf36-4845-4e58-d598-fe4981878555"
      },
      "execution_count": 10,
      "outputs": [
        {
          "output_type": "display_data",
          "data": {
            "text/plain": [
              "Computing transition probabilities:   0%|          | 0/1145 [00:00<?, ?it/s]"
            ],
            "application/vnd.jupyter.widget-view+json": {
              "version_major": 2,
              "version_minor": 0,
              "model_id": "35a24540943248498fc7db93d38d5d68"
            }
          },
          "metadata": {}
        },
        {
          "output_type": "stream",
          "name": "stdout",
          "text": [
            "-------------\n",
            "cellulose\n",
            "-------------\n",
            "sludge\n",
            "-------------\n",
            "plant\n",
            "-------------\n",
            "waste\n",
            "-------------\n",
            "phosphate\n",
            "-------------\n",
            "material\n",
            "-------------\n",
            "soil\n"
          ]
        }
      ]
    },
    {
      "cell_type": "code",
      "source": [
        "df.loc['sugarcane']"
      ],
      "metadata": {
        "colab": {
          "base_uri": "https://localhost:8080/"
        },
        "id": "-o7te1pZU7DT",
        "outputId": "11771f1e-0cbe-4c4f-980a-e5a271c26dbd"
      },
      "execution_count": 11,
      "outputs": [
        {
          "output_type": "execute_result",
          "data": {
            "text/plain": [
              "cellulose    0.257833\n",
              "sludge       0.787018\n",
              "plant        0.782887\n",
              "waste        0.322227\n",
              "phosphate    0.866103\n",
              "material     0.845783\n",
              "soil         0.882163\n",
              "Name: sugarcane, dtype: float64"
            ]
          },
          "metadata": {},
          "execution_count": 11
        }
      ]
    },
    {
      "cell_type": "code",
      "source": [
        "clusters['cellulose']"
      ],
      "metadata": {
        "colab": {
          "base_uri": "https://localhost:8080/"
        },
        "id": "mgXDBuRdV6OT",
        "outputId": "32613d46-f35b-4e35-bf4b-707420268418"
      },
      "execution_count": 12,
      "outputs": [
        {
          "output_type": "execute_result",
          "data": {
            "text/plain": [
              "['mechanical',\n",
              " 'film',\n",
              " 'blend',\n",
              " 'bagasse',\n",
              " 'property',\n",
              " 'characterization',\n",
              " 'polymer',\n",
              " 'sugarcane',\n",
              " 'nanocrystal',\n",
              " 'crystalline',\n",
              " 'hydrolysi',\n",
              " 'acid',\n",
              " 'fiber',\n",
              " 'biopolymer',\n",
              " 'nanocomposite',\n",
              " 'stipa',\n",
              " 'tenacissima',\n",
              " 'tensile',\n",
              " 'graphene',\n",
              " 'oxide',\n",
              " 'nanofiller',\n",
              " 'synergistic',\n",
              " 'hybrid',\n",
              " 'reinforcement',\n",
              " 'extraction',\n",
              " 'food',\n",
              " 'package',\n",
              " 'kcarrageenan',\n",
              " 'halpintsai',\n",
              " 'p2type',\n",
              " 'miscanthu',\n",
              " 'suspension',\n",
              " 'aqueous',\n",
              " 'group',\n",
              " 'rheologic',\n",
              " 'sulfate',\n",
              " 'biological',\n",
              " 'shell',\n",
              " 'dye',\n",
              " 'adsorbent',\n",
              " 'cocoa',\n",
              " 'sunflower',\n",
              " 'oil',\n",
              " 'cake',\n",
              " 'composite',\n",
              " 'coating',\n",
              " 'lignin',\n",
              " 'polyethylene',\n",
              " 'mapk',\n",
              " 'screening',\n",
              " 'p38',\n",
              " 'discovery',\n",
              " 'molecular',\n",
              " 'silico',\n",
              " 'inhibit',\n",
              " 'dock',\n",
              " 'physical',\n",
              " 'glycerol',\n",
              " 'plastic',\n",
              " 'bionanocomposite',\n",
              " 'microfiber',\n",
              " 'physicochemic',\n",
              " 'nanofibril',\n",
              " 'polysaccharide',\n",
              " 'neck',\n",
              " 'head',\n",
              " 'squamous',\n",
              " 'elrcxcl',\n",
              " 'carcinoma',\n",
              " 'sunitinib',\n",
              " 'cxcr12',\n",
              " 'photolatent',\n",
              " 'catalyst',\n",
              " 'heterogeneous',\n",
              " 'rufinamide',\n",
              " 'azidealkyne',\n",
              " 'benzophenone',\n",
              " 'reaction',\n",
              " 'chitosan',\n",
              " 'cuaac',\n",
              " 'cycloaddition',\n",
              " 'complex',\n",
              " 'copper',\n",
              " 'pls',\n",
              " 'alkaloid',\n",
              " 'carboline',\n",
              " 'mlr',\n",
              " '2dqsar',\n",
              " 'restoration',\n",
              " 'color',\n",
              " 'image',\n",
              " 'regularize',\n",
              " 'illpose',\n",
              " 'tikhonov',\n",
              " 'problem',\n",
              " 'agent',\n",
              " 'nucleic',\n",
              " 'alfa',\n",
              " 'pva',\n",
              " 'degrade',\n",
              " 'state',\n",
              " 'absorption',\n",
              " 'derivative',\n",
              " 'fluorophore',\n",
              " 'pushpull',\n",
              " 'microbalance',\n",
              " 'capacitance',\n",
              " 'evaluate',\n",
              " 'antibacterial',\n",
              " 'uridine',\n",
              " 'lewis',\n",
              " 'hemp',\n",
              " 'stalk',\n",
              " 'microfibril',\n",
              " 'hydrate',\n",
              " 'aliphatic',\n",
              " 'polyester',\n",
              " 'process',\n",
              " 'polybutylene',\n",
              " 'filtration',\n",
              " 'catalytic',\n",
              " 'depolymerize',\n",
              " 'triflate',\n",
              " 'bismuth',\n",
              " 'friedelcraft',\n",
              " 'modular',\n",
              " 'nucleoside',\n",
              " 'bimetallic',\n",
              " 'reduction',\n",
              " 'hydrogel',\n",
              " 'biodegradable',\n",
              " 'agaragar',\n",
              " 'swelling',\n",
              " 'deformation',\n",
              " 'residual',\n",
              " 'relaxation',\n",
              " 'compression',\n",
              " 'regenerate',\n",
              " 'yellow',\n",
              " '17',\n",
              " '64',\n",
              " 'disperse',\n",
              " 'hplcm',\n",
              " 'nrpa308',\n",
              " 'anticancer',\n",
              " 'hplc',\n",
              " 'peroxide',\n",
              " 'strychno',\n",
              " 'amination',\n",
              " 'mossambine',\n",
              " 'isoxazoline',\n",
              " 'isoxazole',\n",
              " 'nsaccharin',\n",
              " 'alkyne',\n",
              " 'functional',\n",
              " 'magnetron',\n",
              " 'ionize',\n",
              " 'dcm',\n",
              " 'hipim',\n",
              " 'nutrition',\n",
              " 'series',\n",
              " 'ph',\n",
              " 'crosslink',\n",
              " 'hydrolytic',\n",
              " 'ethyl',\n",
              " 'selfheale',\n",
              " 'steel',\n",
              " 'anticorrosion',\n",
              " '13dipolar',\n",
              " 'urochloa',\n",
              " 'digest',\n",
              " 'leucocephala',\n",
              " 'control',\n",
              " 'slow',\n",
              " 'linear',\n",
              " 'multilevel',\n",
              " 'mixedeffect',\n",
              " 'thin',\n",
              " 'shale',\n",
              " 'vapor',\n",
              " 'deposition',\n",
              " 'drift',\n",
              " 'wet',\n",
              " 'nexaf',\n",
              " 'afm',\n",
              " 'azide',\n",
              " 'woven',\n",
              " 'glass',\n",
              " 'chop',\n",
              " 'prosthesis',\n",
              " 'running',\n",
              " 'blade',\n",
              " 'mat',\n",
              " 'strand',\n",
              " 'laminate',\n",
              " 'chain',\n",
              " 'pool',\n",
              " 'lysozyme',\n",
              " 'killing',\n",
              " 'conditions',\n",
              " 'styrylbenzothiazole',\n",
              " 'normoxic',\n",
              " 'drug',\n",
              " 'sulfonyl',\n",
              " 'deamidination',\n",
              " 'guanidine',\n",
              " 'melanoma',\n",
              " 'nanotube',\n",
              " 'halloysite',\n",
              " 'guar',\n",
              " 'zn3v2o8',\n",
              " 'zincvanadium',\n",
              " 'nanostructure',\n",
              " 'galacturonic',\n",
              " 'soluble',\n",
              " 'ftir',\n",
              " 'chemistry',\n",
              " 'carbamate',\n",
              " 'aerobic',\n",
              " 'succinate',\n",
              " 'pbs',\n",
              " 'wood',\n",
              " 'iron']"
            ]
          },
          "metadata": {},
          "execution_count": 12
        }
      ]
    },
    {
      "cell_type": "code",
      "source": [
        "model.wv.distance('material','battery')"
      ],
      "metadata": {
        "colab": {
          "base_uri": "https://localhost:8080/"
        },
        "id": "9HfCO0LvV8Bh",
        "outputId": "5c1bf080-08ee-4166-948f-b81dcfc40d34"
      },
      "execution_count": 13,
      "outputs": [
        {
          "output_type": "execute_result",
          "data": {
            "text/plain": [
              "0.2097063660621643"
            ]
          },
          "metadata": {},
          "execution_count": 13
        }
      ]
    },
    {
      "cell_type": "code",
      "source": [],
      "metadata": {
        "id": "prb19vIqWAsI"
      },
      "execution_count": null,
      "outputs": []
    }
  ]
}